{
 "cells": [
  {
   "cell_type": "code",
   "execution_count": 1,
   "id": "332b8e6a-2d0a-458f-9f32-dbce8f0ec4d4",
   "metadata": {},
   "outputs": [
    {
     "name": "stdout",
     "output_type": "stream",
     "text": [
      "Hello world in codespaces\n"
     ]
    }
   ],
   "source": [
    "print(\"Hello world in codespaces\")"
   ]
  },
  {
   "cell_type": "code",
   "execution_count": null,
   "id": "ff3ec387-be87-453b-bda6-e0f751a90a03",
   "metadata": {},
   "outputs": [],
   "source": []
  }
 ],
 "metadata": {
  "kernelspec": {
   "display_name": "Python 3 (ipykernel)",
   "language": "python",
   "name": "python3"
  },
  "language_info": {
   "codemirror_mode": {
    "name": "ipython",
    "version": 3
   },
   "file_extension": ".py",
   "mimetype": "text/x-python",
   "name": "python",
   "nbconvert_exporter": "python",
   "pygments_lexer": "ipython3",
   "version": "3.12.1"
  }
 },
 "nbformat": 4,
 "nbformat_minor": 5
}
